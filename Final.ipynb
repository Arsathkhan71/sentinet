{
 "cells": [
  {
   "cell_type": "markdown",
   "id": "27a1b5f8",
   "metadata": {},
   "source": [
    "## TechnoHacks Task: 2"
   ]
  },
  {
   "cell_type": "markdown",
   "id": "b2c3bec8",
   "metadata": {},
   "source": [
    "### Movie Review Sentiment Analysis"
   ]
  },
  {
   "cell_type": "code",
   "execution_count": 1,
   "id": "506e7589",
   "metadata": {},
   "outputs": [],
   "source": [
    "import pandas as pd\n",
    "import numpy as np\n",
    "import seaborn as sns\n",
    "import matplotlib.pyplot as plt"
   ]
  },
  {
   "cell_type": "markdown",
   "id": "8583d71e",
   "metadata": {},
   "source": [
    "### Dataset: BagofWords_MeetsBagsofPopcorn.tsv <br>\n",
    "Info: The data set consists of 50000 IMDB movie reviews, specially selected for sentiment analysis. The sentiment of reviews is binary, meaning the IMDB rating < 5 results in a sentiment score of 0, and rating >=7 have a sentiment score of 1. No individual movie has more than 30 reviews."
   ]
  },
  {
   "cell_type": "code",
   "execution_count": 2,
   "id": "fb9375b2",
   "metadata": {},
   "outputs": [
    {
     "data": {
      "text/html": [
       "<div>\n",
       "<style scoped>\n",
       "    .dataframe tbody tr th:only-of-type {\n",
       "        vertical-align: middle;\n",
       "    }\n",
       "\n",
       "    .dataframe tbody tr th {\n",
       "        vertical-align: top;\n",
       "    }\n",
       "\n",
       "    .dataframe thead th {\n",
       "        text-align: right;\n",
       "    }\n",
       "</style>\n",
       "<table border=\"1\" class=\"dataframe\">\n",
       "  <thead>\n",
       "    <tr style=\"text-align: right;\">\n",
       "      <th></th>\n",
       "      <th>id</th>\n",
       "      <th>sentiment</th>\n",
       "      <th>review</th>\n",
       "    </tr>\n",
       "  </thead>\n",
       "  <tbody>\n",
       "    <tr>\n",
       "      <th>0</th>\n",
       "      <td>5814_8</td>\n",
       "      <td>1</td>\n",
       "      <td>With all this stuff going down at the moment w...</td>\n",
       "    </tr>\n",
       "    <tr>\n",
       "      <th>1</th>\n",
       "      <td>2381_9</td>\n",
       "      <td>1</td>\n",
       "      <td>\\The Classic War of the Worlds\\\" by Timothy Hi...</td>\n",
       "    </tr>\n",
       "    <tr>\n",
       "      <th>2</th>\n",
       "      <td>7759_3</td>\n",
       "      <td>0</td>\n",
       "      <td>The film starts with a manager (Nicholas Bell)...</td>\n",
       "    </tr>\n",
       "    <tr>\n",
       "      <th>3</th>\n",
       "      <td>3630_4</td>\n",
       "      <td>0</td>\n",
       "      <td>It must be assumed that those who praised this...</td>\n",
       "    </tr>\n",
       "    <tr>\n",
       "      <th>4</th>\n",
       "      <td>9495_8</td>\n",
       "      <td>1</td>\n",
       "      <td>Superbly trashy and wondrously unpretentious 8...</td>\n",
       "    </tr>\n",
       "  </tbody>\n",
       "</table>\n",
       "</div>"
      ],
      "text/plain": [
       "       id  sentiment                                             review\n",
       "0  5814_8          1  With all this stuff going down at the moment w...\n",
       "1  2381_9          1  \\The Classic War of the Worlds\\\" by Timothy Hi...\n",
       "2  7759_3          0  The film starts with a manager (Nicholas Bell)...\n",
       "3  3630_4          0  It must be assumed that those who praised this...\n",
       "4  9495_8          1  Superbly trashy and wondrously unpretentious 8..."
      ]
     },
     "execution_count": 2,
     "metadata": {},
     "output_type": "execute_result"
    }
   ],
   "source": [
    "df = pd.read_csv(\"Dataset/labeledTrainData.tsv\", delimiter='\\t')\n",
    "df.head()"
   ]
  },
  {
   "cell_type": "code",
   "execution_count": 3,
   "id": "40f81225",
   "metadata": {},
   "outputs": [
    {
     "data": {
      "text/plain": [
       "id           0\n",
       "sentiment    0\n",
       "review       0\n",
       "dtype: int64"
      ]
     },
     "execution_count": 3,
     "metadata": {},
     "output_type": "execute_result"
    }
   ],
   "source": [
    "df.isnull().sum()"
   ]
  },
  {
   "cell_type": "code",
   "execution_count": 4,
   "id": "ddb63d21",
   "metadata": {},
   "outputs": [
    {
     "data": {
      "text/plain": [
       "sentiment\n",
       "1    12500\n",
       "0    12500\n",
       "Name: count, dtype: int64"
      ]
     },
     "execution_count": 4,
     "metadata": {},
     "output_type": "execute_result"
    }
   ],
   "source": [
    "df.sentiment.value_counts()"
   ]
  },
  {
   "cell_type": "code",
   "execution_count": 5,
   "id": "81a7128a",
   "metadata": {},
   "outputs": [],
   "source": [
    "df.drop(['id'], axis=1, inplace=True)"
   ]
  },
  {
   "cell_type": "markdown",
   "id": "53654c04",
   "metadata": {},
   "source": [
    "### Text Data Preprocessing"
   ]
  },
  {
   "cell_type": "code",
   "execution_count": 6,
   "id": "1fdf4bdf",
   "metadata": {},
   "outputs": [],
   "source": [
    "import re\n",
    "from nltk.corpus import stopwords\n",
    "from nltk.stem import WordNetLemmatizer\n",
    "import nltk\n",
    "\n",
    "\n",
    "def preprocess_text(text):\n",
    "    \n",
    "    # Remove HTML tags\n",
    "    clean_text = re.sub(r'<[^>]+>', '', text)\n",
    "    \n",
    "    # Convert to lowercase\n",
    "    clean_text = clean_text.lower()\n",
    "    \n",
    "    # Remove URLs\n",
    "    clean_text = re.sub(r'http\\S+', '', clean_text)\n",
    "    \n",
    "    # Remove mentions\n",
    "    clean_text = re.sub(r'@(\\w+)', '', clean_text)\n",
    "    \n",
    "    # Remove hashtags\n",
    "    clean_text = re.sub(r'#(\\w+)', '', clean_text)\n",
    "    \n",
    "    # Remove special characters and punctuation\n",
    "    clean_text = re.sub(r'[^\\w\\s]', '', clean_text)\n",
    "    \n",
    "    # Remove numeric characters\n",
    "    clean_text = re.sub(r'\\d+', '', clean_text)\n",
    "    \n",
    "    # Remove extra whitespaces\n",
    "    clean_text = ' '.join(clean_text.split())\n",
    "    \n",
    "    # Lemmatization\n",
    "#     lemmatizer = WordNetLemmatizer()\n",
    "#     clean_text = ' '.join([lemmatizer.lemmatize(word) for word in clean_text.split()])\n",
    "    \n",
    "    # Remove stop words\n",
    "    stop_words = set(stopwords.words('english'))\n",
    "    clean_text = ' '.join([word for word in clean_text.split() if word not in stop_words])\n",
    "    \n",
    "    return clean_text"
   ]
  },
  {
   "cell_type": "code",
   "execution_count": 7,
   "id": "cc74919d",
   "metadata": {},
   "outputs": [],
   "source": [
    "df['review_processed'] = df['review'].apply(preprocess_text)"
   ]
  },
  {
   "cell_type": "code",
   "execution_count": 8,
   "id": "4791d205",
   "metadata": {},
   "outputs": [
    {
     "data": {
      "text/html": [
       "<div>\n",
       "<style scoped>\n",
       "    .dataframe tbody tr th:only-of-type {\n",
       "        vertical-align: middle;\n",
       "    }\n",
       "\n",
       "    .dataframe tbody tr th {\n",
       "        vertical-align: top;\n",
       "    }\n",
       "\n",
       "    .dataframe thead th {\n",
       "        text-align: right;\n",
       "    }\n",
       "</style>\n",
       "<table border=\"1\" class=\"dataframe\">\n",
       "  <thead>\n",
       "    <tr style=\"text-align: right;\">\n",
       "      <th></th>\n",
       "      <th>sentiment</th>\n",
       "      <th>review</th>\n",
       "      <th>review_processed</th>\n",
       "    </tr>\n",
       "  </thead>\n",
       "  <tbody>\n",
       "    <tr>\n",
       "      <th>0</th>\n",
       "      <td>1</td>\n",
       "      <td>With all this stuff going down at the moment w...</td>\n",
       "      <td>stuff going moment mj ive started listening mu...</td>\n",
       "    </tr>\n",
       "    <tr>\n",
       "      <th>1</th>\n",
       "      <td>1</td>\n",
       "      <td>\\The Classic War of the Worlds\\\" by Timothy Hi...</td>\n",
       "      <td>classic war worlds timothy hines entertaining ...</td>\n",
       "    </tr>\n",
       "    <tr>\n",
       "      <th>2</th>\n",
       "      <td>0</td>\n",
       "      <td>The film starts with a manager (Nicholas Bell)...</td>\n",
       "      <td>film starts manager nicholas bell giving welco...</td>\n",
       "    </tr>\n",
       "    <tr>\n",
       "      <th>3</th>\n",
       "      <td>0</td>\n",
       "      <td>It must be assumed that those who praised this...</td>\n",
       "      <td>must assumed praised film greatest filmed oper...</td>\n",
       "    </tr>\n",
       "    <tr>\n",
       "      <th>4</th>\n",
       "      <td>1</td>\n",
       "      <td>Superbly trashy and wondrously unpretentious 8...</td>\n",
       "      <td>superbly trashy wondrously unpretentious explo...</td>\n",
       "    </tr>\n",
       "    <tr>\n",
       "      <th>...</th>\n",
       "      <td>...</td>\n",
       "      <td>...</td>\n",
       "      <td>...</td>\n",
       "    </tr>\n",
       "    <tr>\n",
       "      <th>24995</th>\n",
       "      <td>0</td>\n",
       "      <td>It seems like more consideration has gone into...</td>\n",
       "      <td>seems like consideration gone imdb reviews fil...</td>\n",
       "    </tr>\n",
       "    <tr>\n",
       "      <th>24996</th>\n",
       "      <td>0</td>\n",
       "      <td>I don't believe they made this film. Completel...</td>\n",
       "      <td>dont believe made film completely unnecessary ...</td>\n",
       "    </tr>\n",
       "    <tr>\n",
       "      <th>24997</th>\n",
       "      <td>0</td>\n",
       "      <td>Guy is a loser. Can't get girls, needs to buil...</td>\n",
       "      <td>guy loser cant get girls needs build picked st...</td>\n",
       "    </tr>\n",
       "    <tr>\n",
       "      <th>24998</th>\n",
       "      <td>0</td>\n",
       "      <td>This 30 minute documentary Buñuel made in the ...</td>\n",
       "      <td>minute documentary buñuel made early one spain...</td>\n",
       "    </tr>\n",
       "    <tr>\n",
       "      <th>24999</th>\n",
       "      <td>1</td>\n",
       "      <td>I saw this movie as a child and it broke my he...</td>\n",
       "      <td>saw movie child broke heart story unfinished e...</td>\n",
       "    </tr>\n",
       "  </tbody>\n",
       "</table>\n",
       "<p>25000 rows × 3 columns</p>\n",
       "</div>"
      ],
      "text/plain": [
       "       sentiment                                             review   \n",
       "0              1  With all this stuff going down at the moment w...  \\\n",
       "1              1  \\The Classic War of the Worlds\\\" by Timothy Hi...   \n",
       "2              0  The film starts with a manager (Nicholas Bell)...   \n",
       "3              0  It must be assumed that those who praised this...   \n",
       "4              1  Superbly trashy and wondrously unpretentious 8...   \n",
       "...          ...                                                ...   \n",
       "24995          0  It seems like more consideration has gone into...   \n",
       "24996          0  I don't believe they made this film. Completel...   \n",
       "24997          0  Guy is a loser. Can't get girls, needs to buil...   \n",
       "24998          0  This 30 minute documentary Buñuel made in the ...   \n",
       "24999          1  I saw this movie as a child and it broke my he...   \n",
       "\n",
       "                                        review_processed  \n",
       "0      stuff going moment mj ive started listening mu...  \n",
       "1      classic war worlds timothy hines entertaining ...  \n",
       "2      film starts manager nicholas bell giving welco...  \n",
       "3      must assumed praised film greatest filmed oper...  \n",
       "4      superbly trashy wondrously unpretentious explo...  \n",
       "...                                                  ...  \n",
       "24995  seems like consideration gone imdb reviews fil...  \n",
       "24996  dont believe made film completely unnecessary ...  \n",
       "24997  guy loser cant get girls needs build picked st...  \n",
       "24998  minute documentary buñuel made early one spain...  \n",
       "24999  saw movie child broke heart story unfinished e...  \n",
       "\n",
       "[25000 rows x 3 columns]"
      ]
     },
     "execution_count": 8,
     "metadata": {},
     "output_type": "execute_result"
    }
   ],
   "source": [
    "df"
   ]
  },
  {
   "cell_type": "markdown",
   "id": "2489d006",
   "metadata": {},
   "source": [
    "### Train and Test data"
   ]
  },
  {
   "cell_type": "code",
   "execution_count": 9,
   "id": "28236f9a",
   "metadata": {},
   "outputs": [],
   "source": [
    "from sklearn.model_selection import train_test_split"
   ]
  },
  {
   "cell_type": "code",
   "execution_count": 10,
   "id": "b57600c4",
   "metadata": {},
   "outputs": [],
   "source": [
    "X_train, X_test, y_train, y_test = train_test_split(df.review_processed, df.sentiment, test_size=0.2, random_state=42)"
   ]
  },
  {
   "cell_type": "code",
   "execution_count": 11,
   "id": "14cd8174",
   "metadata": {},
   "outputs": [
    {
     "data": {
      "text/plain": [
       "((20000,), (5000,))"
      ]
     },
     "execution_count": 11,
     "metadata": {},
     "output_type": "execute_result"
    }
   ],
   "source": [
    "X_train.shape, X_test.shape"
   ]
  },
  {
   "cell_type": "markdown",
   "id": "1d17d225",
   "metadata": {},
   "source": [
    "### Vector Representation"
   ]
  },
  {
   "cell_type": "code",
   "execution_count": 12,
   "id": "33ef2603",
   "metadata": {},
   "outputs": [],
   "source": [
    "from sklearn.feature_extraction.text import CountVectorizer\n",
    "cv = CountVectorizer()"
   ]
  },
  {
   "cell_type": "code",
   "execution_count": 13,
   "id": "9df4ec3b",
   "metadata": {},
   "outputs": [],
   "source": [
    "X_train_cv = cv.fit_transform(X_train)\n",
    "X_test_cv = cv.transform(X_test)"
   ]
  },
  {
   "cell_type": "code",
   "execution_count": 14,
   "id": "48a37490",
   "metadata": {},
   "outputs": [],
   "source": [
    "import pickle\n",
    "with open('count_vectorizer.pkl', 'wb') as f:\n",
    "    pickle.dump(cv, f)"
   ]
  },
  {
   "cell_type": "code",
   "execution_count": 15,
   "id": "6e88a362",
   "metadata": {},
   "outputs": [
    {
     "data": {
      "text/plain": [
       "array([[0, 0, 0, ..., 0, 0, 0],\n",
       "       [0, 0, 0, ..., 0, 0, 0],\n",
       "       [0, 0, 0, ..., 0, 0, 0],\n",
       "       ...,\n",
       "       [0, 0, 0, ..., 0, 0, 0],\n",
       "       [0, 0, 0, ..., 0, 0, 0],\n",
       "       [0, 0, 0, ..., 0, 0, 0]], dtype=int64)"
      ]
     },
     "execution_count": 15,
     "metadata": {},
     "output_type": "execute_result"
    }
   ],
   "source": [
    "X_train_np = X_train_cv.toarray()\n",
    "X_train_np"
   ]
  },
  {
   "cell_type": "code",
   "execution_count": 16,
   "id": "3b6fa4f4",
   "metadata": {},
   "outputs": [
    {
     "data": {
      "text/plain": [
       "array([[0, 0, 0, ..., 0, 0, 0],\n",
       "       [0, 0, 0, ..., 0, 0, 0],\n",
       "       [0, 0, 0, ..., 0, 0, 0],\n",
       "       ...,\n",
       "       [0, 0, 0, ..., 0, 0, 0],\n",
       "       [0, 0, 0, ..., 0, 0, 0],\n",
       "       [0, 0, 0, ..., 0, 0, 0]], dtype=int64)"
      ]
     },
     "execution_count": 16,
     "metadata": {},
     "output_type": "execute_result"
    }
   ],
   "source": [
    "X_test_np = X_test_cv.toarray()\n",
    "X_test_np"
   ]
  },
  {
   "cell_type": "code",
   "execution_count": 17,
   "id": "19f09a9a",
   "metadata": {},
   "outputs": [
    {
     "data": {
      "text/plain": [
       "array([0, 0, 0, ..., 0, 0, 0], dtype=int64)"
      ]
     },
     "execution_count": 17,
     "metadata": {},
     "output_type": "execute_result"
    }
   ],
   "source": [
    "X_train_np[0]"
   ]
  },
  {
   "cell_type": "code",
   "execution_count": 18,
   "id": "567e0258",
   "metadata": {},
   "outputs": [
    {
     "data": {
      "text/plain": [
       "{'movie': 69377,\n",
       " 'plain': 80382,\n",
       " 'dumbfrom': 30695,\n",
       " 'casting': 16100,\n",
       " 'ralph': 85243,\n",
       " 'meeker': 65879,\n",
       " 'mike': 67036,\n",
       " 'hammer': 46185,\n",
       " 'fatuous': 36872,\n",
       " 'climax': 19029,\n",
       " 'film': 37753,\n",
       " 'exercise': 35027,\n",
       " 'wooden': 117937,\n",
       " 'predictabilitymike': 82294,\n",
       " 'one': 74886,\n",
       " 'detective': 26741,\n",
       " 'fictions': 37554,\n",
       " 'true': 109722,\n",
       " 'sociopaths': 97842,\n",
       " 'unlike': 111853,\n",
       " 'marlow': 64523,\n",
       " 'spade': 98734,\n",
       " 'put': 84380,\n",
       " 'pieces': 79868,\n",
       " 'together': 107853,\n",
       " 'solve': 98068,\n",
       " 'mystery': 70702,\n",
       " 'breaks': 13006,\n",
       " 'things': 106272,\n",
       " 'apart': 4878,\n",
       " 'get': 42625,\n",
       " 'truth': 109809,\n",
       " 'turns': 110103,\n",
       " 'boob': 12022,\n",
       " 'surrounding': 103169,\n",
       " 'bad': 7590,\n",
       " 'guys': 45559,\n",
       " 'well': 116009,\n",
       " 'dumb': 30672,\n",
       " 'away': 7115,\n",
       " 'anything': 4760,\n",
       " 'poorly': 81414,\n",
       " 'drawn': 30027,\n",
       " 'succumbs': 102290,\n",
       " 'popcorn': 81445,\n",
       " 'attackother': 6484,\n",
       " 'parts': 77887,\n",
       " 'right': 88828,\n",
       " 'three': 106781,\n",
       " 'stooges': 100910,\n",
       " 'play': 80520,\n",
       " 'book': 12063,\n",
       " 'veldas': 113313,\n",
       " 'dance': 24506,\n",
       " 'barre': 8393,\n",
       " 'instance': 53357,\n",
       " 'guy': 45535,\n",
       " 'accidentally': 566,\n",
       " 'stabs': 99782,\n",
       " 'boss': 12398,\n",
       " 'back': 7440,\n",
       " 'continuity': 21552,\n",
       " 'shameful': 94550,\n",
       " 'frau': 40407,\n",
       " 'blucher': 11478,\n",
       " 'running': 90293,\n",
       " 'centerline': 16629,\n",
       " 'road': 89157,\n",
       " 'camera': 15010,\n",
       " 'tight': 107161,\n",
       " 'lower': 62496,\n",
       " 'legs': 60039,\n",
       " 'shes': 94936,\n",
       " 'way': 115567,\n",
       " 'side': 95799,\n",
       " 'pulls': 84096,\n",
       " 'wider': 117015,\n",
       " 'shot': 95341,\n",
       " 'worst': 118398,\n",
       " 'break': 12969,\n",
       " 'however': 50389,\n",
       " 'precedes': 82217,\n",
       " 'attack': 6466,\n",
       " 'stalking': 99913,\n",
       " 'passes': 77986,\n",
       " 'clock': 19111,\n",
       " 'seconds': 92886,\n",
       " 'hero': 48196,\n",
       " 'except': 34841,\n",
       " 'shows': 95538,\n",
       " 'seven': 94200,\n",
       " 'minutes': 67498,\n",
       " 'behind': 9426,\n",
       " 'guyto': 45583,\n",
       " 'fair': 36086,\n",
       " 'interesting': 53653,\n",
       " 'angles': 4065,\n",
       " 'lighting': 60847,\n",
       " 'grand': 44365,\n",
       " 'finale': 38273,\n",
       " 'must': 70542,\n",
       " 'seen': 93096,\n",
       " 'reason': 86080,\n",
       " 'gets': 42640,\n",
       " 'two': 110386,\n",
       " 'points': 81072,\n",
       " 'dahmer': 24351,\n",
       " 'young': 119572,\n",
       " 'confused': 21056,\n",
       " 'man': 63839,\n",
       " 'confusing': 21062,\n",
       " 'granted': 44433,\n",
       " 'beers': 9204,\n",
       " 'watching': 115378,\n",
       " 'doesnt': 28980,\n",
       " 'explain': 35350,\n",
       " 'got': 44128,\n",
       " 'bored': 12258,\n",
       " 'flickits': 39012,\n",
       " 'flashbacks': 38795,\n",
       " 'nothing': 73126,\n",
       " 'annoying': 4285,\n",
       " 'theres': 106092,\n",
       " 'real': 85882,\n",
       " 'storyline': 101092,\n",
       " 'beginning': 9328,\n",
       " 'end': 32716,\n",
       " 'thing': 106231,\n",
       " 'made': 63199,\n",
       " 'sense': 93693,\n",
       " 'explaining': 35365,\n",
       " 'text': 105465,\n",
       " 'inbetween': 52198,\n",
       " 'stuff': 101726,\n",
       " 'would': 118451,\n",
       " 'boring': 12302,\n",
       " 'images': 51642,\n",
       " 'waste': 115263,\n",
       " 'time': 107234,\n",
       " 'never': 71790,\n",
       " 'see': 93009,\n",
       " 'actual': 1183,\n",
       " 'murders': 70349,\n",
       " 'everything': 34558,\n",
       " 'bunch': 14125,\n",
       " 'insinuations': 53274,\n",
       " 'sometimes': 98180,\n",
       " 'even': 34363,\n",
       " 'feeling': 37144,\n",
       " 'dahmers': 24352,\n",
       " 'dreaming': 30082,\n",
       " 'entire': 33476,\n",
       " 'know': 58064,\n",
       " 'isnt': 54496,\n",
       " 'since': 96197,\n",
       " 'itsbased': 54918,\n",
       " 'story': 101025,\n",
       " 'actually': 1191,\n",
       " 'happened': 46468,\n",
       " 'least': 59803,\n",
       " 'easy': 31281,\n",
       " 'telli': 104991,\n",
       " 'encourage': 32697,\n",
       " 'people': 78697,\n",
       " 'ididnt': 51334,\n",
       " 'like': 60891,\n",
       " 'bit': 10785,\n",
       " 'felt': 37257,\n",
       " 'cheated': 17403,\n",
       " 'suddenly': 102355,\n",
       " 'ended': 32765,\n",
       " 'may': 65248,\n",
       " 'saints': 90746,\n",
       " 'preserve': 82600,\n",
       " 'us': 112661,\n",
       " 'going': 43590,\n",
       " 'helpsomeone': 47842,\n",
       " 'access': 551,\n",
       " 'needs': 71485,\n",
       " 'email': 32328,\n",
       " 'mel': 66007,\n",
       " 'gibson': 42795,\n",
       " 'tell': 104983,\n",
       " 'need': 71456,\n",
       " 'faithful': 36126,\n",
       " 'production': 83160,\n",
       " 'beowulf': 9850,\n",
       " 'something': 98129,\n",
       " 'common': 20326,\n",
       " 'epic': 33606,\n",
       " 'poem': 80956,\n",
       " 'foundation': 40119,\n",
       " 'modern': 68143,\n",
       " 'western': 116409,\n",
       " 'literaturethe': 61369,\n",
       " 'recent': 86276,\n",
       " 'versions': 113517,\n",
       " 'make': 63583,\n",
       " 'wonder': 117864,\n",
       " 'first': 38528,\n",
       " 'much': 69978,\n",
       " 'interest': 53633,\n",
       " 'second': 92856,\n",
       " 'filmmakers': 37966,\n",
       " 'squandering': 99649,\n",
       " 'mountains': 69275,\n",
       " 'cash': 15993,\n",
       " 'crapthe': 22899,\n",
       " 'version': 113497,\n",
       " 'lambert': 58888,\n",
       " 'worse': 118341,\n",
       " 'needed': 71461,\n",
       " 'watch': 115316,\n",
       " 'wrong': 118703,\n",
       " 'idea': 51241,\n",
       " 'industry': 52684,\n",
       " 'peter': 79341,\n",
       " 'jackson': 55175,\n",
       " 'literary': 61361,\n",
       " 'conversion': 21715,\n",
       " 'mean': 65607,\n",
       " 'really': 85988,\n",
       " 'roman': 89577,\n",
       " 'forum': 40057,\n",
       " 'model': 68118,\n",
       " 'heorot': 47942,\n",
       " 'muchand': 69980,\n",
       " 'please': 80639,\n",
       " 'horns': 49906,\n",
       " 'helmets': 47794,\n",
       " 'spare': 98795,\n",
       " 'insultinghjm': 53475,\n",
       " 'combination': 19956,\n",
       " 'reading': 85846,\n",
       " 'novella': 73354,\n",
       " 'viewing': 113872,\n",
       " 'inspired': 53326,\n",
       " 'wife': 117051,\n",
       " 'new': 71816,\n",
       " 'levels': 60430,\n",
       " 'recently': 86278,\n",
       " 'pondering': 81330,\n",
       " 'statement': 100244,\n",
       " 'artist': 5835,\n",
       " 'thomas': 106595,\n",
       " 'kinkade': 57755,\n",
       " 'inspirational': 53318,\n",
       " 'books': 12112,\n",
       " 'states': 100260,\n",
       " 'designed': 26549,\n",
       " 'breathe': 13038,\n",
       " 'fetid': 37443,\n",
       " 'air': 2317,\n",
       " 'five': 38659,\n",
       " 'oclock': 74081,\n",
       " 'traffic': 108783,\n",
       " 'think': 106321,\n",
       " 'god': 43456,\n",
       " 'banal': 8046,\n",
       " 'television': 104955,\n",
       " 'programs': 83300,\n",
       " 'media': 65797,\n",
       " 'hype': 51034,\n",
       " 'worthless': 118428,\n",
       " 'purchases': 84249,\n",
       " 'soul': 98508,\n",
       " 'pollution': 81271,\n",
       " 'mind': 67234,\n",
       " 'created': 23023,\n",
       " 'universe': 111803,\n",
       " 'hadnt': 45766,\n",
       " 'river': 89098,\n",
       " 'runs': 90307,\n",
       " 'couple': 22517,\n",
       " 'years': 119199,\n",
       " 'kinkades': 57756,\n",
       " 'drew': 30174,\n",
       " 'spiritual': 99208,\n",
       " 'eye': 35710,\n",
       " 'watched': 115354,\n",
       " 'saw': 91419,\n",
       " 'whole': 116863,\n",
       " 'world': 118219,\n",
       " 'read': 85829,\n",
       " 'always': 3336,\n",
       " 'frustrated': 40950,\n",
       " 'southern': 98626,\n",
       " 'california': 14884,\n",
       " 'somehow': 98095,\n",
       " 'caught': 16358,\n",
       " 'materialistic': 65001,\n",
       " 'society': 97809,\n",
       " 'puts': 84398,\n",
       " 'perspective': 79249,\n",
       " 'experience': 35277,\n",
       " 'gods': 43517,\n",
       " 'creations': 23047,\n",
       " 'macleans': 63136,\n",
       " 'desire': 26569,\n",
       " 'move': 69337,\n",
       " 'northwest': 73004,\n",
       " 'driven': 30266,\n",
       " 'montana': 68605,\n",
       " 'want': 114939,\n",
       " 'future': 41388,\n",
       " 'kids': 57465,\n",
       " 'able': 235,\n",
       " 'rome': 89637,\n",
       " 'landscape': 59008,\n",
       " 'go': 43405,\n",
       " 'flyfishing': 39296,\n",
       " 'ride': 88714,\n",
       " 'horses': 50075,\n",
       " 'open': 75343,\n",
       " 'land': 58970,\n",
       " 'serene': 93942,\n",
       " 'lakes': 58847,\n",
       " 'set': 94130,\n",
       " 'mountainside': 69277,\n",
       " 'place': 80278,\n",
       " 'seldom': 93261,\n",
       " 'worry': 118334,\n",
       " 'crime': 23260,\n",
       " 'look': 61951,\n",
       " 'around': 5639,\n",
       " 'socal': 97774,\n",
       " 'shopping': 95254,\n",
       " 'malls': 63779,\n",
       " 'rude': 90148,\n",
       " 'snarling': 97516,\n",
       " 'mercedez': 66365,\n",
       " 'bens': 9825,\n",
       " 'miles': 67082,\n",
       " 'vehicles': 113295,\n",
       " 'congested': 21089,\n",
       " 'freeways': 40547,\n",
       " 'gangs': 41807,\n",
       " 'racial': 84971,\n",
       " 'turmoil': 110071,\n",
       " 'verge': 113431,\n",
       " 'violent': 114114,\n",
       " 'eruption': 33926,\n",
       " 'everyone': 34533,\n",
       " 'skeptical': 96596,\n",
       " 'others': 75985,\n",
       " 'intentionsanyway': 53585,\n",
       " 'inspiring': 53335,\n",
       " 'brilliant': 13261,\n",
       " 'acting': 836,\n",
       " 'deep': 25573,\n",
       " 'fragile': 40227,\n",
       " 'connections': 21150,\n",
       " 'loved': 62336,\n",
       " 'ones': 75057,\n",
       " 'lot': 62181,\n",
       " 'thinking': 106340,\n",
       " 'scenery': 91776,\n",
       " 'worth': 118420,\n",
       " 'seeing': 93040,\n",
       " 'alone': 3103,\n",
       " 'helps': 47836,\n",
       " 'relieve': 87187,\n",
       " 'tension': 105144,\n",
       " 'finish': 38394,\n",
       " 'relaxed': 87109,\n",
       " 'yet': 119364,\n",
       " 'full': 41056,\n",
       " 'insights': 53257,\n",
       " 'life': 60644,\n",
       " 'takes': 104071,\n",
       " 'compassionate': 20457,\n",
       " 'intelligent': 53538,\n",
       " 'person': 79179,\n",
       " 'grasp': 44474,\n",
       " 'meaning': 65637,\n",
       " 'dont': 29328,\n",
       " 'understand': 111280,\n",
       " 'art': 5757,\n",
       " 'cinema': 18355,\n",
       " 'director': 27757,\n",
       " 'achieves': 714,\n",
       " 'goals': 43419,\n",
       " 'dialogue': 27080,\n",
       " 'tone': 108058,\n",
       " 'light': 60818,\n",
       " 'colour': 19897,\n",
       " 'anglesmovement': 4067,\n",
       " 'etc': 34126,\n",
       " 'probably': 82992,\n",
       " 'crowd': 23595,\n",
       " 'thinks': 106363,\n",
       " 'fast': 36722,\n",
       " 'furious': 41318,\n",
       " 'greatest': 44606,\n",
       " 'entertaining': 33389,\n",
       " 'shallowthe': 94529,\n",
       " 'bottom': 12474,\n",
       " 'line': 61085,\n",
       " 'realize': 85971,\n",
       " 'money': 68401,\n",
       " 'posses': 81694,\n",
       " 'rather': 85595,\n",
       " 'relationships': 87080,\n",
       " 'family': 36266,\n",
       " 'friends': 40726,\n",
       " 'experiences': 35298,\n",
       " 'share': 94639,\n",
       " 'quality': 84555,\n",
       " 'qauntity': 84492,\n",
       " 'daniel': 24599,\n",
       " 'day': 24942,\n",
       " 'lewis': 60480,\n",
       " 'left': 59947,\n",
       " 'foot': 39550,\n",
       " 'gives': 43124,\n",
       " 'best': 10019,\n",
       " 'performances': 78950,\n",
       " 'ever': 34420,\n",
       " 'actor': 1035,\n",
       " 'christy': 18168,\n",
       " 'brown': 13590,\n",
       " 'cerebral': 16675,\n",
       " 'palsy': 77319,\n",
       " 'learned': 59781,\n",
       " 'write': 118610,\n",
       " 'paint': 77183,\n",
       " 'deserved': 26518,\n",
       " 'oscar': 75861,\n",
       " 'brenda': 13105,\n",
       " 'fricker': 40665,\n",
       " 'plays': 80590,\n",
       " 'loving': 62454,\n",
       " 'mother': 69128,\n",
       " 'hugh': 50541,\n",
       " 'oconner': 74084,\n",
       " 'terrific': 105296,\n",
       " 'younger': 119580,\n",
       " 'ray': 85737,\n",
       " 'mcanally': 65338,\n",
       " 'great': 44587,\n",
       " 'father': 36800,\n",
       " 'outstanding': 76383,\n",
       " 'perhaps': 79010,\n",
       " 'former': 39919,\n",
       " 'moscovite': 69060,\n",
       " 'elastic': 31973,\n",
       " 'humor': 50705,\n",
       " 'prevents': 82746,\n",
       " 'tossing': 108472,\n",
       " 'arthousefestival': 5789,\n",
       " 'crap': 22837,\n",
       " 'trashcan': 109088,\n",
       " 'complete': 20556,\n",
       " 'garbage': 41871,\n",
       " 'problems': 83024,\n",
       " 'also': 3231,\n",
       " 'sincerely': 96209,\n",
       " 'doubt': 29610,\n",
       " 'banned': 8159,\n",
       " 'due': 30571,\n",
       " 'ideological': 51322,\n",
       " 'fears': 37031,\n",
       " 'conservative': 21265,\n",
       " 'taboos': 103915,\n",
       " 'might': 66998,\n",
       " 'conversely': 21712,\n",
       " 'called': 14914,\n",
       " 'courageous': 22544,\n",
       " 'uncompromising': 111049,\n",
       " 'abroad': 363,\n",
       " 'censors': 16609,\n",
       " 'knew': 57995,\n",
       " 'russian': 90364,\n",
       " 'filmgoers': 37897,\n",
       " 'find': 38316,\n",
       " 'offensive': 74247,\n",
       " 'taste': 104478,\n",
       " 'exercised': 35028,\n",
       " 'shooting': 95224,\n",
       " 'editing': 31488,\n",
       " 'otherwise': 76040,\n",
       " 'dull': 30628,\n",
       " 'filmso': 38130,\n",
       " 'strong': 101562,\n",
       " 'opening': 75353,\n",
       " 'wonderful': 117871,\n",
       " 'sound': 98534,\n",
       " 'design': 26544,\n",
       " 'excellent': 34814,\n",
       " 'premise': 82455,\n",
       " 'laden': 58720,\n",
       " 'symbolism': 103711,\n",
       " 'usage': 112670,\n",
       " 'placement': 80310,\n",
       " 'symbols': 103725,\n",
       " 'consistently': 21308,\n",
       " 'films': 38066,\n",
       " 'strongest': 101568,\n",
       " 'aspects': 6058,\n",
       " 'number': 73598,\n",
       " 'daunting': 24877,\n",
       " 'visual': 114250,\n",
       " 'challenge': 16812,\n",
       " 'next': 71926,\n",
       " 'equally': 33722,\n",
       " 'setup': 94192,\n",
       " 'amusing': 3744,\n",
       " 'wellwritten': 116302,\n",
       " 'bar': 8203,\n",
       " 'conversation': 21702,\n",
       " 'among': 3658,\n",
       " 'main': 63521,\n",
       " 'characters': 17096,\n",
       " 'feel': 37132,\n",
       " 'pathos': 78124,\n",
       " 'country': 22463,\n",
       " 'russia': 90362,\n",
       " 'human': 50596,\n",
       " 'condition': 20917,\n",
       " 'starts': 100201,\n",
       " 'slowing': 97167,\n",
       " 'begin': 9314,\n",
       " 'yawn': 119106,\n",
       " 'lies': 60626,\n",
       " 'aheadthe': 2221,\n",
       " 'rest': 88011,\n",
       " 'quite': 84862,\n",
       " 'simply': 96166,\n",
       " 'sure': 103009,\n",
       " 'village': 113962,\n",
       " 'tugs': 109938,\n",
       " 'heartstrings': 47473,\n",
       " 'slightly': 97025,\n",
       " 'moments': 68314,\n",
       " 'nice': 71980,\n",
       " 'enjoyment': 33168,\n",
       " 'mention': 66300,\n",
       " 'plot': 80730,\n",
       " 'seriously': 94035,\n",
       " 'compromised': 20682,\n",
       " 'pacing': 77042,\n",
       " 'lack': 58677,\n",
       " 'payoff': 78325,\n",
       " 'sitting': 96452,\n",
       " 'nicelyshot': 72001,\n",
       " 'abject': 231,\n",
       " 'misery': 67692,\n",
       " 'bleakness': 11164,\n",
       " 'ultimately': 110721,\n",
       " 'angry': 4088,\n",
       " 'personally': 79206,\n",
       " 'scene': 91725,\n",
       " 'bordered': 12244,\n",
       " 'endearing': 32750,\n",
       " 'pathetic': 78102,\n",
       " 'harmless': 46799,\n",
       " 'drunks': 30436,\n",
       " 'appearif': 5050,\n",
       " 'enjoyable': 33128,\n",
       " 'russians': 90368,\n",
       " 'wasted': 115266,\n",
       " 'prolonged': 83387,\n",
       " 'periods': 79049,\n",
       " 'particulars': 77844,\n",
       " 'national': 71148,\n",
       " 'hunt': 50824,\n",
       " 'rewarding': 88490,\n",
       " 'postsoviet': 81860,\n",
       " 'yeah': 119136,\n",
       " 'symbolic': 103706,\n",
       " 'postmediocrefilm': 81829,\n",
       " 'took': 108160,\n",
       " 'four': 40143,\n",
       " 'children': 17776,\n",
       " 'ages': 2073,\n",
       " 'given': 43114,\n",
       " 'stars': 100111,\n",
       " 'emma': 32482,\n",
       " 'roberts': 89226,\n",
       " 'adorable': 1457,\n",
       " 'title': 107681,\n",
       " 'role': 89439,\n",
       " 'expect': 35197,\n",
       " 'nextgeneration': 71934,\n",
       " 'exposed': 35463,\n",
       " 'likes': 60936,\n",
       " 'britney': 13372,\n",
       " 'spears': 98896,\n",
       " 'lindsay': 61073,\n",
       " 'lohan': 61732,\n",
       " 'paris': 77684,\n",
       " 'hilton': 48743,\n",
       " 'refreshing': 86764,\n",
       " 'girl': 42960,\n",
       " 'didnt': 27248,\n",
       " 'worked': 118110,\n",
       " 'streets': 101403,\n",
       " 'enjoyed': 33154,\n",
       " 'supporting': 102948,\n",
       " 'cast': 16065,\n",
       " 'included': 52300,\n",
       " 'tate': 104513,\n",
       " 'donovan': 29323,\n",
       " 'rachel': 84965,\n",
       " 'leigh': 60065,\n",
       " 'cook': 21791,\n",
       " 'barry': 8433,\n",
       " 'bostwick': 12424,\n",
       " 'monica': 68469,\n",
       " 'parker': 77705,\n",
       " 'cameo': 14998,\n",
       " 'bruce': 13629,\n",
       " 'willis': 117219,\n",
       " 'final': 38272,\n",
       " 'takeaway': 104042,\n",
       " 'cute': 24122,\n",
       " 'filmnote': 38020,\n",
       " 'series': 93970,\n",
       " 'comments': 20251,\n",
       " 'based': 8493,\n",
       " 'merits': 66428,\n",
       " 'wellroeg': 116229,\n",
       " 'touched': 108530,\n",
       " 'nerve': 71696,\n",
       " 'genius': 42351,\n",
       " 'cataloguing': 16193,\n",
       " 'various': 113182,\n",
       " 'descents': 26469,\n",
       " 'psychosis': 83942,\n",
       " 'decades': 25363,\n",
       " 'soon': 98334,\n",
       " 'suggest': 102423,\n",
       " 'redemption': 86523,\n",
       " 'good': 43756,\n",
       " 'advice': 1610,\n",
       " 'found': 40117,\n",
       " 'old': 74657,\n",
       " 'catholic': 16294,\n",
       " 'church': 18249,\n",
       " 'hipperthanthou': 48973,\n",
       " 'alternative': 3280,\n",
       " 'extra': 35608,\n",
       " 'vicious': 113653,\n",
       " 'still': 100683,\n",
       " 'theresa': 106093,\n",
       " 'russells': 90360,\n",
       " 'character': 17025,\n",
       " 'faced': 35863,\n",
       " 'avowedly': 7058,\n",
       " 'rationalist': 85633,\n",
       " 'outlook': 76252,\n",
       " 'explanation': 35373,\n",
       " 'unwillingly': 112379,\n",
       " 'forced': 39636,\n",
       " 'deal': 25161,\n",
       " 'another': 4331,\n",
       " 'level': 60408,\n",
       " 'realm': 86017,\n",
       " 'ignorant': 51446,\n",
       " 'superstitious': 102882,\n",
       " 'sort': 98456,\n",
       " 'arthouse': 5788,\n",
       " 'cinephiles': 18465,\n",
       " 'supposed': 102960,\n",
       " 'oh': 74502,\n",
       " 'horror': 49964,\n",
       " 'finds': 38330,\n",
       " 'marriage': 64562,\n",
       " 'uniquely': 111766,\n",
       " 'important': 51977,\n",
       " 'commitment': 20305,\n",
       " 'affirmed': 1722,\n",
       " 'seems': 93087,\n",
       " 'uncomfortably': 111036,\n",
       " 'divine': 28730,\n",
       " 'intervention': 53865,\n",
       " 'prima': 82832,\n",
       " 'facie': 35919,\n",
       " 'could': 22348,\n",
       " 'maybe': 65253,\n",
       " 'ask': 6022,\n",
       " 'instinctively': 53417,\n",
       " 'jump': 56447,\n",
       " 'mode': 68117,\n",
       " 'challenged': 16814,\n",
       " 'take': 104041,\n",
       " 'dimension': 27542,\n",
       " 'lives': 61463,\n",
       " 'wont': 117919,\n",
       " 'notably': 73060,\n",
       " 'talia': 104152,\n",
       " 'shires': 95078,\n",
       " 'delirious': 25914,\n",
       " 'hamwork': 46234,\n",
       " 'overwrought': 76896,\n",
       " 'nun': 73634,\n",
       " 'sstyle': 99768,\n",
       " 'attire': 6578,\n",
       " 'marie': 64368,\n",
       " 'davenport': 24886,\n",
       " 'priest': 82812,\n",
       " 'last': 59236,\n",
       " 'straight': 101222,\n",
       " 'spellbound': 99038,\n",
       " 'school': 92026,\n",
       " 'glib': 43251,\n",
       " 'interpretations': 53792,\n",
       " 'though': 106654,\n",
       " 'hitchcocks': 49127,\n",
       " 'escaped': 33953,\n",
       " 'similar': 96092,\n",
       " 'charges': 17216,\n",
       " 'source': 98601,\n",
       " 'wisdom': 117464,\n",
       " 'impeccably': 51882,\n",
       " 'secular': 92958,\n",
       " 'credentials': 23092,\n",
       " 'freudian': 40651,\n",
       " 'psychoanalyst': 83900,\n",
       " 'sadly': 90613,\n",
       " 'nicolas': 72061,\n",
       " 'roeg': 89396,\n",
       " 'appears': 5053,\n",
       " 'copped': 21926,\n",
       " 'critical': 23390,\n",
       " 'mauling': 65194,\n",
       " 'asking': 6034,\n",
       " 'question': 84710,\n",
       " 'possible': 81718,\n",
       " 'answers': 4377,\n",
       " 'presents': 82588,\n",
       " 'many': 64217,\n",
       " 'connect': 21137,\n",
       " 'beautiful': 8977,\n",
       " 'compassion': 20455,\n",
       " 'werent': 116360,\n",
       " 'said': 90700,\n",
       " 'thoroughly': 106632,\n",
       " 'entertained': 33372,\n",
       " 'joyous': 56295,\n",
       " 'exuberance': 35686,\n",
       " 'tom': 107983,\n",
       " 'robbins': 89215,\n",
       " 'havent': 47119,\n",
       " 'particular': 77837,\n",
       " 'matched': 64950,\n",
       " 'cant': 15308,\n",
       " 'imagine': 51676,\n",
       " 'interpretation': 53791,\n",
       " 'define': 25719,\n",
       " 'part': 77786,\n",
       " 'novel': 73337,\n",
       " 'details': 26717,\n",
       " 'pity': 80234,\n",
       " 'little': 61391,\n",
       " 'dimming': 27571,\n",
       " 'hearts': 47459,\n",
       " 'far': 36519,\n",
       " 'glorious': 43324,\n",
       " 'long': 61830,\n",
       " 'live': 61426,\n",
       " 'whooping': 116911,\n",
       " 'crane': 22824,\n",
       " 'im': 51628,\n",
       " 'particularly': 77843,\n",
       " 'fond': 39484,\n",
       " 'remakes': 87268,\n",
       " 'steal': 100372,\n",
       " 'jargon': 55414,\n",
       " 'retellings': 88164,\n",
       " 'truly': 109772,\n",
       " 'peeved': 78528,\n",
       " 'original': 75723,\n",
       " 'prom': 83390,\n",
       " 'night': 72110,\n",
       " 'humble': 50671,\n",
       " 'estimation': 34105,\n",
       " 'masterpiece': 64865,\n",
       " 'realized': 85974,\n",
       " 'simple': 96134,\n",
       " 'remember': 87317,\n",
       " 'making': 63645,\n",
       " 'suspense': 103257,\n",
       " 'crucial': 23624,\n",
       " 'maintaining': 63546,\n",
       " 'audience': 6660,\n",
       " 'sorry': 98449,\n",
       " 'folks': 39406,\n",
       " 'white': 116758,\n",
       " 'knuckle': 58153,\n",
       " 'scares': 91611,\n",
       " 'cheap': 17374,\n",
       " 'foreshadowed': 39733,\n",
       " 'terribly': 105289,\n",
       " 'example': 34748,\n",
       " 'scare': 91595,\n",
       " 'done': 29239,\n",
       " 'clichéd': 18969,\n",
       " 'excess': 34871,\n",
       " 'cat': 16175,\n",
       " 'jumping': 56458,\n",
       " 'closet': 19175,\n",
       " 'followed': 39425,\n",
       " 'unexpected': 111479,\n",
       " 'appearance': 5032,\n",
       " 'villain': 113978,\n",
       " 'couldnt': 22359,\n",
       " 'successfully': 102255,\n",
       " 'pull': 84081,\n",
       " 'fulfill': 41046,\n",
       " 'conventions': 21690,\n",
       " 'likable': 60884,\n",
       " 'heroine': 48215,\n",
       " 'identified': 51304,\n",
       " 'head': 47243,\n",
       " 'calm': 14943,\n",
       " 'demeanor': 26009,\n",
       " 'headed': 47269,\n",
       " 'approach': 5165,\n",
       " 'escape': 33950,\n",
       " 'killer': 57568,\n",
       " 'ilk': 51513,\n",
       " 'events': 34399,\n",
       " 'occur': 74040,\n",
       " 'youre': 119620,\n",
       " 'axe': 7274,\n",
       " 'wielding': 117042,\n",
       " 'psycho': 83897,\n",
       " 'turn': 110074,\n",
       " 'sprint': 99574,\n",
       " 'opposite': 75489,\n",
       " 'direction': 27716,\n",
       " 'jog': 56011,\n",
       " 'whilst': 116686,\n",
       " 'looking': 61975,\n",
       " 'gaging': 41542,\n",
       " 'killers': 57592,\n",
       " 'progress': 83303,\n",
       " 'trip': 109500,\n",
       " 'every': 34518,\n",
       " 'branch': 12832,\n",
       " 'inanimate': 52167,\n",
       " 'object': 73821,\n",
       " 'path': 78095,\n",
       " 'friend': 40698,\n",
       " 'disappears': 27914,\n",
       " 'suspect': 103236,\n",
       " 'foul': 40104,\n",
       " 'someone': 98104,\n",
       " 'investigate': 54055,\n",
       " 'clichés': 18982,\n",
       " 'tired': 107633,\n",
       " 'overplayed': 76707,\n",
       " 'genre': 42388,\n",
       " 'general': 42274,\n",
       " 'low': 62466,\n",
       " 'rating': 85598,\n",
       " 'judged': 56358,\n",
       " 'diarrhea': 27137,\n",
       " 'joke': 56084,\n",
       " 'embarrassing': 32363,\n",
       " 'nutscratching': 73690,\n",
       " 'laugh': 59408,\n",
       " 'loud': 62223,\n",
       " 'jason': 55448,\n",
       " 'lee': 59911,\n",
       " 'performing': 79001,\n",
       " 'wonderfully': 117880,\n",
       " 'subtle': 102184,\n",
       " 'comedy': 20023,\n",
       " 'julia': 56416,\n",
       " 'stiles': 100679,\n",
       " 'manages': 63852,\n",
       " 'pretty': 82718,\n",
       " 'damn': 24472,\n",
       " 'funny': 41221,\n",
       " 'behaves': 9398,\n",
       " 'romantic': 89612,\n",
       " 'comedies': 20012,\n",
       " 'better': 10139,\n",
       " 'already': 3201,\n",
       " 'anyway': 4791,\n",
       " 'movies': 69662,\n",
       " 'definitely': 25728,\n",
       " 'pickcheers': 79755,\n",
       " 'summary': 102553,\n",
       " 'justice': 56565,\n",
       " 'incredible': 52422,\n",
       " 'listing': 61322,\n",
       " 'turner': 110084,\n",
       " 'classic': 18723,\n",
       " 'favorite': 36926,\n",
       " 'child': 17730,\n",
       " 'sister': 96396,\n",
       " 'wait': 114705,\n",
       " 'april': 5206,\n",
       " 'tv': 110171,\n",
       " 'horse': 50064,\n",
       " 'classics': 18745,\n",
       " 'romance': 89579,\n",
       " 'clean': 18834,\n",
       " 'songs': 98266,\n",
       " 'anymore': 4712,\n",
       " 'top': 108256,\n",
       " 'pat': 78070,\n",
       " 'boone': 12168,\n",
       " 'shirley': 95084,\n",
       " 'jones': 56157,\n",
       " 'along': 3139,\n",
       " 'actors': 1069,\n",
       " 'waited': 114709,\n",
       " 'come': 19985,\n",
       " 'outthe': 76403,\n",
       " 'trailers': 108831,\n",
       " 'seemed': 93077,\n",
       " 'big': 10458,\n",
       " 'fan': 36326,\n",
       " 'buy': 14549,\n",
       " 'jim': 55830,\n",
       " 'suited': 102474,\n",
       " 'perfectly': 78878,\n",
       " 'factor': 35956,\n",
       " 'scale': 91530,\n",
       " 'perfect': 78851,\n",
       " 'christmas': 18132,\n",
       " 'ron': 89665,\n",
       " 'fab': 35825,\n",
       " 'job': 55907,\n",
       " 'turning': 110088,\n",
       " 'seem': 93073,\n",
       " 'goofy': 43952,\n",
       " 'murphys': 70385,\n",
       " 'ease': 31230,\n",
       " 'mix': 67997,\n",
       " 'mysticism': 70738,\n",
       " 'modernday': 68144,\n",
       " 'hardboiled': 46649,\n",
       " 'abduction': 178,\n",
       " 'charles': 17242,\n",
       " 'charlotte': 17255,\n",
       " 'murphy': 70383,\n",
       " 'height': 47666,\n",
       " 'peak': 78390,\n",
       " 'comedyaction': 20026,\n",
       " 'fx': 41442,\n",
       " 'surreal': 103146,\n",
       " 'dream': 30057,\n",
       " 'sequence': 93881,\n",
       " 'fairly': 36103,\n",
       " 'often': 74442,\n",
       " 'overlooked': 76662,\n",
       " 'pantheon': 77439,\n",
       " 'flicks': 39022,\n",
       " 'high': 48505,\n",
       " 'days': 24997,\n",
       " 'salina': 90824,\n",
       " 'kansas': 56811,\n",
       " 'filmed': 37842,\n",
       " 'brave': 12913,\n",
       " 'men': 66183,\n",
       " 'weinberg': 115938,\n",
       " 'locally': 61618,\n",
       " 'crews': 23236,\n",
       " 'prominent': 83399,\n",
       " 'weeks': 115871,\n",
       " 'eventually': 34414,\n",
       " 'academy': 487,\n",
       " 'ummm': 110806,\n",
       " 'brow': 13585,\n",
       " 'led': 59905,\n",
       " 'believe': 9589,\n",
       " 'local': 61608,\n",
       " 'audiences': 6696,\n",
       " 'less': 60275,\n",
       " 'pleased': 80643,\n",
       " 'showing': 95495,\n",
       " 'thought': 106689,\n",
       " 'artless': 5864,\n",
       " 'attempt': 6505,\n",
       " 'post': 81751,\n",
       " 'animal': 4118,\n",
       " 'house': 50282,\n",
       " 'type': 110497,\n",
       " 'fart': 36643,\n",
       " 'jokes': 56099,\n",
       " 'times': 107391,\n",
       " 'opinion': 75426,\n",
       " 'mellowed': 66061,\n",
       " 'catches': 16224,\n",
       " 'mad': 63171,\n",
       " 'magazine': 63356,\n",
       " 'liebman': 60617,\n",
       " 'hate': 47008,\n",
       " 'nearly': 71360,\n",
       " 'unforgettable': 111556,\n",
       " 'moment': 68294,\n",
       " 'brief': 13203,\n",
       " 'santa': 91096,\n",
       " 'fe': 37007,\n",
       " 'avenue': 6988,\n",
       " ...}"
      ]
     },
     "execution_count": 18,
     "metadata": {},
     "output_type": "execute_result"
    }
   ],
   "source": [
    "cv.vocabulary_"
   ]
  },
  {
   "cell_type": "code",
   "execution_count": 19,
   "id": "d3fa15fc",
   "metadata": {},
   "outputs": [
    {
     "data": {
      "text/plain": [
       "(120281,)"
      ]
     },
     "execution_count": 19,
     "metadata": {},
     "output_type": "execute_result"
    }
   ],
   "source": [
    "cv.get_feature_names_out().shape"
   ]
  },
  {
   "cell_type": "code",
   "execution_count": 20,
   "id": "214415c1",
   "metadata": {},
   "outputs": [
    {
     "data": {
      "text/plain": [
       "'angles'"
      ]
     },
     "execution_count": 20,
     "metadata": {},
     "output_type": "execute_result"
    }
   ],
   "source": [
    "cv.get_feature_names_out()[4065]"
   ]
  },
  {
   "cell_type": "code",
   "execution_count": 21,
   "id": "05e5ce57",
   "metadata": {},
   "outputs": [
    {
     "data": {
      "text/plain": [
       "array([0, 0, 0, ..., 0, 0, 0], dtype=int64)"
      ]
     },
     "execution_count": 21,
     "metadata": {},
     "output_type": "execute_result"
    }
   ],
   "source": [
    "X_train_np[:5][0]"
   ]
  },
  {
   "cell_type": "code",
   "execution_count": 22,
   "id": "f45a2c6b",
   "metadata": {
    "scrolled": true
   },
   "outputs": [
    {
     "data": {
      "text/plain": [
       "(array([   566,   4065,   4760,   4878,   6466,   6484,   7115,   7440,\n",
       "          7590,   8393,   9426,  11478,  12022,  12063,  12398,  12969,\n",
       "         13006,  15010,  16100,  16629,  19029,  19111,  21552,  24506,\n",
       "         26741,  30027,  30672,  30695,  34841,  35027,  36086,  36872,\n",
       "         37554,  37753,  38273,  40407,  42625,  42640,  44365,  45535,\n",
       "         45559,  45583,  46185,  48196,  50389,  53357,  53653,  60039,\n",
       "         60847,  62496,  64523,  65879,  67036,  67498,  69377,  70542,\n",
       "         70702,  74886,  77887,  77986,  79868,  80382,  80520,  81072,\n",
       "         81414,  81445,  82217,  82294,  84096,  84380,  85243,  86080,\n",
       "         88828,  89157,  90293,  92886,  93096,  94200,  94550,  94936,\n",
       "         95341,  95538,  95799,  97842,  98068,  98734,  99782,  99913,\n",
       "        100910, 102290, 103169, 106272, 106781, 107161, 107853, 109722,\n",
       "        109809, 110103, 110386, 111853, 113313, 115567, 116009, 117015,\n",
       "        117937, 118398], dtype=int64),)"
      ]
     },
     "execution_count": 22,
     "metadata": {},
     "output_type": "execute_result"
    }
   ],
   "source": [
    "np.where(X_train_np[0] != 0)"
   ]
  },
  {
   "cell_type": "code",
   "execution_count": 23,
   "id": "6c9f048f",
   "metadata": {},
   "outputs": [
    {
     "data": {
      "text/plain": [
       "'movie plain dumbfrom casting ralph meeker mike hammer fatuous climax film exercise wooden predictabilitymike hammer one detective fictions true sociopaths unlike marlow spade put pieces together solve mystery hammer breaks things apart get truth film turns hammer boob surrounding bad guys well dumb get away anything one poorly drawn succumbs popcorn attackother parts movie right three stooges play book veldas dance barre instance bad guy accidentally stabs boss back continuity breaks shameful frau blucher running centerline road camera tight lower legs shes way side camera pulls back wider shot worst break however precedes popcorn attack bad guy stalking hammer passes clock seconds hero except clock shows seven minutes behind guyto fair interesting camera angles lighting grand finale bad must seen reason gets two points'"
      ]
     },
     "execution_count": 23,
     "metadata": {},
     "output_type": "execute_result"
    }
   ],
   "source": [
    "X_train[0:5][23311]"
   ]
  },
  {
   "cell_type": "markdown",
   "id": "0b062e52",
   "metadata": {},
   "source": [
    "### Model Building"
   ]
  },
  {
   "cell_type": "code",
   "execution_count": 24,
   "id": "b7dcb856",
   "metadata": {},
   "outputs": [],
   "source": [
    "from sklearn.naive_bayes import MultinomialNB"
   ]
  },
  {
   "cell_type": "code",
   "execution_count": 25,
   "id": "0c623069",
   "metadata": {},
   "outputs": [],
   "source": [
    "model = MultinomialNB()"
   ]
  },
  {
   "cell_type": "markdown",
   "id": "f2535e9a",
   "metadata": {},
   "source": [
    "### Training"
   ]
  },
  {
   "cell_type": "code",
   "execution_count": 26,
   "id": "6bcee695",
   "metadata": {},
   "outputs": [
    {
     "data": {
      "text/html": [
       "<style>#sk-container-id-1 {color: black;background-color: white;}#sk-container-id-1 pre{padding: 0;}#sk-container-id-1 div.sk-toggleable {background-color: white;}#sk-container-id-1 label.sk-toggleable__label {cursor: pointer;display: block;width: 100%;margin-bottom: 0;padding: 0.3em;box-sizing: border-box;text-align: center;}#sk-container-id-1 label.sk-toggleable__label-arrow:before {content: \"▸\";float: left;margin-right: 0.25em;color: #696969;}#sk-container-id-1 label.sk-toggleable__label-arrow:hover:before {color: black;}#sk-container-id-1 div.sk-estimator:hover label.sk-toggleable__label-arrow:before {color: black;}#sk-container-id-1 div.sk-toggleable__content {max-height: 0;max-width: 0;overflow: hidden;text-align: left;background-color: #f0f8ff;}#sk-container-id-1 div.sk-toggleable__content pre {margin: 0.2em;color: black;border-radius: 0.25em;background-color: #f0f8ff;}#sk-container-id-1 input.sk-toggleable__control:checked~div.sk-toggleable__content {max-height: 200px;max-width: 100%;overflow: auto;}#sk-container-id-1 input.sk-toggleable__control:checked~label.sk-toggleable__label-arrow:before {content: \"▾\";}#sk-container-id-1 div.sk-estimator input.sk-toggleable__control:checked~label.sk-toggleable__label {background-color: #d4ebff;}#sk-container-id-1 div.sk-label input.sk-toggleable__control:checked~label.sk-toggleable__label {background-color: #d4ebff;}#sk-container-id-1 input.sk-hidden--visually {border: 0;clip: rect(1px 1px 1px 1px);clip: rect(1px, 1px, 1px, 1px);height: 1px;margin: -1px;overflow: hidden;padding: 0;position: absolute;width: 1px;}#sk-container-id-1 div.sk-estimator {font-family: monospace;background-color: #f0f8ff;border: 1px dotted black;border-radius: 0.25em;box-sizing: border-box;margin-bottom: 0.5em;}#sk-container-id-1 div.sk-estimator:hover {background-color: #d4ebff;}#sk-container-id-1 div.sk-parallel-item::after {content: \"\";width: 100%;border-bottom: 1px solid gray;flex-grow: 1;}#sk-container-id-1 div.sk-label:hover label.sk-toggleable__label {background-color: #d4ebff;}#sk-container-id-1 div.sk-serial::before {content: \"\";position: absolute;border-left: 1px solid gray;box-sizing: border-box;top: 0;bottom: 0;left: 50%;z-index: 0;}#sk-container-id-1 div.sk-serial {display: flex;flex-direction: column;align-items: center;background-color: white;padding-right: 0.2em;padding-left: 0.2em;position: relative;}#sk-container-id-1 div.sk-item {position: relative;z-index: 1;}#sk-container-id-1 div.sk-parallel {display: flex;align-items: stretch;justify-content: center;background-color: white;position: relative;}#sk-container-id-1 div.sk-item::before, #sk-container-id-1 div.sk-parallel-item::before {content: \"\";position: absolute;border-left: 1px solid gray;box-sizing: border-box;top: 0;bottom: 0;left: 50%;z-index: -1;}#sk-container-id-1 div.sk-parallel-item {display: flex;flex-direction: column;z-index: 1;position: relative;background-color: white;}#sk-container-id-1 div.sk-parallel-item:first-child::after {align-self: flex-end;width: 50%;}#sk-container-id-1 div.sk-parallel-item:last-child::after {align-self: flex-start;width: 50%;}#sk-container-id-1 div.sk-parallel-item:only-child::after {width: 0;}#sk-container-id-1 div.sk-dashed-wrapped {border: 1px dashed gray;margin: 0 0.4em 0.5em 0.4em;box-sizing: border-box;padding-bottom: 0.4em;background-color: white;}#sk-container-id-1 div.sk-label label {font-family: monospace;font-weight: bold;display: inline-block;line-height: 1.2em;}#sk-container-id-1 div.sk-label-container {text-align: center;}#sk-container-id-1 div.sk-container {/* jupyter's `normalize.less` sets `[hidden] { display: none; }` but bootstrap.min.css set `[hidden] { display: none !important; }` so we also need the `!important` here to be able to override the default hidden behavior on the sphinx rendered scikit-learn.org. See: https://github.com/scikit-learn/scikit-learn/issues/21755 */display: inline-block !important;position: relative;}#sk-container-id-1 div.sk-text-repr-fallback {display: none;}</style><div id=\"sk-container-id-1\" class=\"sk-top-container\"><div class=\"sk-text-repr-fallback\"><pre>MultinomialNB()</pre><b>In a Jupyter environment, please rerun this cell to show the HTML representation or trust the notebook. <br />On GitHub, the HTML representation is unable to render, please try loading this page with nbviewer.org.</b></div><div class=\"sk-container\" hidden><div class=\"sk-item\"><div class=\"sk-estimator sk-toggleable\"><input class=\"sk-toggleable__control sk-hidden--visually\" id=\"sk-estimator-id-1\" type=\"checkbox\" checked><label for=\"sk-estimator-id-1\" class=\"sk-toggleable__label sk-toggleable__label-arrow\">MultinomialNB</label><div class=\"sk-toggleable__content\"><pre>MultinomialNB()</pre></div></div></div></div></div>"
      ],
      "text/plain": [
       "MultinomialNB()"
      ]
     },
     "execution_count": 26,
     "metadata": {},
     "output_type": "execute_result"
    }
   ],
   "source": [
    "model.fit(X_train_cv, y_train)"
   ]
  },
  {
   "cell_type": "code",
   "execution_count": 27,
   "id": "796dbaf3",
   "metadata": {},
   "outputs": [
    {
     "data": {
      "text/plain": [
       "array([0, 1, 0, 1, 0], dtype=int64)"
      ]
     },
     "execution_count": 27,
     "metadata": {},
     "output_type": "execute_result"
    }
   ],
   "source": [
    "y_pred = model.predict(X_test_cv)\n",
    "y_pred[:5]"
   ]
  },
  {
   "cell_type": "code",
   "execution_count": 28,
   "id": "c1a7d0e0",
   "metadata": {},
   "outputs": [
    {
     "data": {
      "text/plain": [
       "6868     0\n",
       "24016    1\n",
       "9668     0\n",
       "13640    1\n",
       "14018    0\n",
       "Name: sentiment, dtype: int64"
      ]
     },
     "execution_count": 28,
     "metadata": {},
     "output_type": "execute_result"
    }
   ],
   "source": [
    "y_test[:5]"
   ]
  },
  {
   "cell_type": "markdown",
   "id": "d321132d",
   "metadata": {},
   "source": [
    "### Evaluating"
   ]
  },
  {
   "cell_type": "code",
   "execution_count": 29,
   "id": "eaec37f5",
   "metadata": {},
   "outputs": [],
   "source": [
    "from sklearn.metrics import classification_report, confusion_matrix"
   ]
  },
  {
   "cell_type": "code",
   "execution_count": 30,
   "id": "bcc7662f",
   "metadata": {},
   "outputs": [
    {
     "data": {
      "image/png": "[encoded data removed]",
      "text/plain": [
       "<Figure size 400x200 with 2 Axes>"
      ]
     },
     "metadata": {},
     "output_type": "display_data"
    }
   ],
   "source": [
    "plt.figure(figsize=(4,2))\n",
    "sns.heatmap(confusion_matrix(y_pred, y_test), annot=True, fmt='d')\n",
    "plt.show()"
   ]
  },
  {
   "cell_type": "code",
   "execution_count": 31,
   "id": "bc111335",
   "metadata": {},
   "outputs": [
    {
     "name": "stdout",
     "output_type": "stream",
     "text": [
      "              precision    recall  f1-score   support\n",
      "\n",
      "           0       0.85      0.87      0.86      2481\n",
      "           1       0.87      0.85      0.86      2519\n",
      "\n",
      "    accuracy                           0.86      5000\n",
      "   macro avg       0.86      0.86      0.86      5000\n",
      "weighted avg       0.86      0.86      0.86      5000\n",
      "\n"
     ]
    }
   ],
   "source": [
    "print(classification_report(y_test, y_pred))"
   ]
  },
  {
   "cell_type": "code",
   "execution_count": 32,
   "id": "635e2c58",
   "metadata": {},
   "outputs": [
    {
     "data": {
      "text/plain": [
       "((20000,), (20000,))"
      ]
     },
     "execution_count": 32,
     "metadata": {},
     "output_type": "execute_result"
    }
   ],
   "source": [
    "X_train.shape, y_train.shape"
   ]
  },
  {
   "cell_type": "code",
   "execution_count": 33,
   "id": "44212776",
   "metadata": {},
   "outputs": [
    {
     "data": {
      "text/plain": [
       "((20000, 120281), 2)"
      ]
     },
     "execution_count": 33,
     "metadata": {},
     "output_type": "execute_result"
    }
   ],
   "source": [
    "X_train_cv.shape, X_train_cv.ndim"
   ]
  },
  {
   "cell_type": "code",
   "execution_count": 34,
   "id": "8c14120c",
   "metadata": {},
   "outputs": [
    {
     "data": {
      "text/plain": [
       "((20000, 120281), 2)"
      ]
     },
     "execution_count": 34,
     "metadata": {},
     "output_type": "execute_result"
    }
   ],
   "source": [
    "X_train_np.shape, X_train_np.ndim"
   ]
  },
  {
   "cell_type": "code",
   "execution_count": 35,
   "id": "7b0d09dc",
   "metadata": {},
   "outputs": [
    {
     "data": {
      "text/plain": [
       "20000"
      ]
     },
     "execution_count": 35,
     "metadata": {},
     "output_type": "execute_result"
    }
   ],
   "source": [
    "X_train.shape[0]"
   ]
  },
  {
   "cell_type": "code",
   "execution_count": 36,
   "id": "e2cfaea5",
   "metadata": {},
   "outputs": [
    {
     "data": {
      "text/plain": [
       "(scipy.sparse._csr.csr_matrix, numpy.ndarray, pandas.core.series.Series)"
      ]
     },
     "execution_count": 36,
     "metadata": {},
     "output_type": "execute_result"
    }
   ],
   "source": [
    "type(X_train_cv), type(X_train_np), type(X_train)"
   ]
  },
  {
   "cell_type": "markdown",
   "id": "005d3709",
   "metadata": {},
   "source": [
    "### Neural Network Model"
   ]
  },
  {
   "cell_type": "code",
   "execution_count": 37,
   "id": "07dcf9aa",
   "metadata": {},
   "outputs": [],
   "source": [
    "from tensorflow import keras"
   ]
  },
  {
   "cell_type": "code",
   "execution_count": 38,
   "id": "ad1d3ab2",
   "metadata": {},
   "outputs": [],
   "source": [
    "ANN = keras.Sequential([\n",
    "    keras.layers.Dense(units=64, input_shape=(X_train_cv.shape[1],), activation='relu'),\n",
    "    keras.layers.Dropout(0.5),\n",
    "    keras.layers.Dense(units=32, activation='relu'),\n",
    "    keras.layers.Dropout(0.25),\n",
    "    keras.layers.Dense(units=1, activation='sigmoid')\n",
    "])"
   ]
  },
  {
   "cell_type": "code",
   "execution_count": 39,
   "id": "ca02d2ee",
   "metadata": {},
   "outputs": [],
   "source": [
    "ANN.compile(loss = 'binary_crossentropy', optimizer = 'adam', metrics = ['accuracy'])"
   ]
  },
  {
   "cell_type": "markdown",
   "id": "37041ba1",
   "metadata": {},
   "source": [
    "### Training"
   ]
  },
  {
   "cell_type": "code",
   "execution_count": 40,
   "id": "58f461f8",
   "metadata": {},
   "outputs": [
    {
     "name": "stdout",
     "output_type": "stream",
     "text": [
      "Epoch 1/5\n",
      "313/313 [==============================] - 62s 196ms/step - loss: 0.3750 - accuracy: 0.8467 - val_loss: 0.2799 - val_accuracy: 0.8896\n",
      "Epoch 2/5\n",
      "313/313 [==============================] - 59s 187ms/step - loss: 0.1614 - accuracy: 0.9408 - val_loss: 0.3056 - val_accuracy: 0.8848\n",
      "Epoch 3/5\n",
      "313/313 [==============================] - 59s 188ms/step - loss: 0.0738 - accuracy: 0.9753 - val_loss: 0.3835 - val_accuracy: 0.8820\n",
      "Epoch 4/5\n",
      "313/313 [==============================] - 60s 193ms/step - loss: 0.0350 - accuracy: 0.9886 - val_loss: 0.4579 - val_accuracy: 0.8792\n",
      "Epoch 5/5\n",
      "313/313 [==============================] - 57s 183ms/step - loss: 0.0197 - accuracy: 0.9947 - val_loss: 0.5509 - val_accuracy: 0.8750\n"
     ]
    }
   ],
   "source": [
    "# Train the Model\n",
    "history = ANN.fit(\n",
    "    x = X_train_np,\n",
    "    y = y_train,\n",
    "    epochs = 5,\n",
    "    batch_size = 64,\n",
    "    validation_data=(X_test_np, y_test)\n",
    ")"
   ]
  },
  {
   "cell_type": "markdown",
   "id": "ace98859",
   "metadata": {},
   "source": [
    "### Evaluating"
   ]
  },
  {
   "cell_type": "code",
   "execution_count": 41,
   "id": "8a7315a8",
   "metadata": {},
   "outputs": [
    {
     "name": "stdout",
     "output_type": "stream",
     "text": [
      "157/157 [==============================] - 3s 20ms/step - loss: 0.5509 - accuracy: 0.8750\n"
     ]
    },
    {
     "data": {
      "text/plain": [
       "[0.5508513450622559, 0.875]"
      ]
     },
     "execution_count": 41,
     "metadata": {},
     "output_type": "execute_result"
    }
   ],
   "source": [
    "ANN.evaluate(X_test_np, y_test)\n"
   ]
  },
  {
   "cell_type": "code",
   "execution_count": 42,
   "id": "9357b126",
   "metadata": {},
   "outputs": [
    {
     "name": "stdout",
     "output_type": "stream",
     "text": [
      "157/157 [==============================] - 4s 21ms/step\n",
      "Confusion Matrix:\n",
      "[[2156  325]\n",
      " [ 300 2219]]\n"
     ]
    }
   ],
   "source": [
    "from sklearn.metrics import confusion_matrix\n",
    "\n",
    "# Assuming you have predictions and true labels\n",
    "predictions = ANN.predict(X_test_np)\n",
    "predicted_labels = [1 if prediction > 0.5 else 0 for prediction in predictions]\n",
    "\n",
    "# Create the confusion matrix\n",
    "cm = confusion_matrix(y_test, predicted_labels)\n",
    "\n",
    "# Print the confusion matrix\n",
    "print(\"Confusion Matrix:\")\n",
    "print(cm)\n"
   ]
  },
  {
   "cell_type": "code",
   "execution_count": 43,
   "id": "9d351989",
   "metadata": {},
   "outputs": [
    {
     "name": "stdout",
     "output_type": "stream",
     "text": [
      "              precision    recall  f1-score   support\n",
      "\n",
      "           0       0.88      0.87      0.87      2481\n",
      "           1       0.87      0.88      0.88      2519\n",
      "\n",
      "    accuracy                           0.88      5000\n",
      "   macro avg       0.88      0.87      0.87      5000\n",
      "weighted avg       0.88      0.88      0.87      5000\n",
      "\n"
     ]
    }
   ],
   "source": [
    "print(classification_report(y_test, predicted_labels))"
   ]
  },
  {
   "cell_type": "markdown",
   "id": "00857cc2",
   "metadata": {},
   "source": [
    "### Saving Model"
   ]
  },
  {
   "cell_type": "code",
   "execution_count": 44,
   "id": "dcfed4b7",
   "metadata": {},
   "outputs": [],
   "source": [
    "# Save the model\n",
    "ANN.save(\"modelANN2.h5\")\n"
   ]
  },
  {
   "cell_type": "markdown",
   "id": "748f54f7",
   "metadata": {},
   "source": [
    "### Model Testing with unseen data"
   ]
  },
  {
   "cell_type": "code",
   "execution_count": 45,
   "id": "21f210a5",
   "metadata": {},
   "outputs": [],
   "source": [
    "reviews = [\"the moview in not bad\",\n",
    "           \"the movie is so wonderful yhan i expected\",\n",
    "           \"This film is a visual concert. The animation and character design neatly put me to tears. The opening of the film took an approach that shocked me, but it was fantastic to watch. Many of the jokes were in the trailers, but plenty caught me off guard in the cinema. Miguel even had a couple of funny moments. The presence of existing spider characters, such as snippets of the other films, did feel somewhat strange I have to admit. However, it is made up for in how incredible this film was. It was artistic, mature, adult, and profound. It leaves the viewer on a cliffhanger that shocked me. I thought I was an hour into the film, but it was the end. I implore everyone wondering if they should see this film to do so. Easily the best film I have seen in a long time and the best film to see in theaters. A true masterpiece.\",\n",
    "           \"When fx subsumes the storyline the movie always loses. In this case the street art style does the same thing as the weak plot drowns completely in artsy fartsy.A good movie is about the story it tells, not about superficial appearance. Thats really the hidden moral of the story.The plot rests on the current fashion for multiverse themes. It's like a huge tasteless meal that becomes impossible to digest The multiverse themes, the street art and the emo hooded young teenagers are designed to appeal to generation X. The dialogue is so badly mumbled it urgently needed to be subtitled.Highly confused jumbled dialogue mixed with a very infantile understanding of maths.\"]"
   ]
  },
  {
   "cell_type": "code",
   "execution_count": 46,
   "id": "564ec6ea",
   "metadata": {},
   "outputs": [],
   "source": [
    "review = cv.transform(reviews)"
   ]
  },
  {
   "cell_type": "code",
   "execution_count": 50,
   "id": "e40876b9",
   "metadata": {},
   "outputs": [
    {
     "name": "stdout",
     "output_type": "stream",
     "text": [
      "Sentiment of the review: 1 for positive reviews and 0 for negative reviews\n"
     ]
    }
   ],
   "source": [
    "print(\"Sentiment of the review: 1 for positive reviews and 0 for negative reviews\")\n"
   ]
  },
  {
   "cell_type": "code",
   "execution_count": 57,
   "id": "ddad355a",
   "metadata": {},
   "outputs": [
    {
     "name": "stdout",
     "output_type": "stream",
     "text": [
      "1/1 [==============================] - 0s 19ms/step\n",
      "Negative\n",
      "Positive\n",
      "Positive\n",
      "Negative\n"
     ]
    }
   ],
   "source": [
    "predictions = ANN.predict(review)\n",
    "\n",
    "# Interpret the predictions\n",
    "for prediction in predictions:\n",
    "    if prediction > 0.5:\n",
    "        print(\"Positive\")\n",
    "    else:\n",
    "        print(\"Negative\")"
   ]
  },
  {
   "cell_type": "markdown",
   "id": "3036fd18",
   "metadata": {},
   "source": [
    "### Predictions from Saved Model"
   ]
  },
  {
   "cell_type": "code",
   "execution_count": 51,
   "id": "cd053766",
   "metadata": {},
   "outputs": [
    {
     "data": {
      "text/plain": [
       "<keras.engine.sequential.Sequential at 0x1fc8fb10b80>"
      ]
     },
     "execution_count": 51,
     "metadata": {},
     "output_type": "execute_result"
    }
   ],
   "source": [
    "loaded_model = keras.models.load_model(\"modelANN2.h5\")\n",
    "loaded_model"
   ]
  },
  {
   "cell_type": "code",
   "execution_count": 58,
   "id": "8fcf6490",
   "metadata": {},
   "outputs": [
    {
     "name": "stdout",
     "output_type": "stream",
     "text": [
      "1/1 [==============================] - 0s 18ms/step\n",
      "Negative\n",
      "Positive\n",
      "Positive\n",
      "Negative\n"
     ]
    }
   ],
   "source": [
    "predictions = loaded_model.predict(review)\n",
    "\n",
    "# Interpret the predictions\n",
    "for prediction in predictions:\n",
    "    if prediction > 0.5:\n",
    "        print(\"Positive\")\n",
    "    else:\n",
    "        print(\"Negative\")"
   ]
  },
  {
   "cell_type": "markdown",
   "id": "6aa9758a",
   "metadata": {},
   "source": [
    "### Thank You!"
   ]
  }
 ],
 "metadata": {
  "kernelspec": {
   "display_name": "dlcv",
   "language": "python",
   "name": "dlcv"
  },
  "language_info": {
   "codemirror_mode": {
    "name": "ipython",
    "version": 3
   },
   "file_extension": ".py",
   "mimetype": "text/x-python",
   "name": "python",
   "nbconvert_exporter": "python",
   "pygments_lexer": "ipython3",
   "version": "3.10.11"
  }
 },
 "nbformat": 4,
 "nbformat_minor": 5
}
